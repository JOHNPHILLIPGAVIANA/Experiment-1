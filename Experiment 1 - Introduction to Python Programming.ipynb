{
 "cells": [
  {
   "cell_type": "markdown",
   "id": "a8ced497-de58-408b-ad08-c7d2b631f7cd",
   "metadata": {},
   "source": [
    "# Alphabet Soup Problem"
   ]
  },
  {
   "cell_type": "code",
   "execution_count": 1,
   "id": "df41cf14-d083-49e7-8135-16a1bdf245e3",
   "metadata": {},
   "outputs": [
    {
     "name": "stdin",
     "output_type": "stream",
     "text": [
      "Please enter word:  electronics\n"
     ]
    },
    {
     "name": "stdout",
     "output_type": "stream",
     "text": [
      "cceeilnorst\n"
     ]
    }
   ],
   "source": [
    "def alphabet_soup(word):\n",
    "    letters = sorted(word)\n",
    "    sort_alphabet_soup = \"\".join(letters)\n",
    "    print(sort_alphabet_soup)\n",
    "          \n",
    "user_input = input(\"Please enter word: \")\n",
    "alphabet_soup(user_input)"
   ]
  },
  {
   "cell_type": "markdown",
   "id": "56fb3662-df9b-443b-b376-ba9fded30906",
   "metadata": {},
   "source": [
    "# Emoticon Problem"
   ]
  },
  {
   "cell_type": "code",
   "execution_count": 2,
   "id": "44df5ca5-354d-4c84-9b0f-88ad4c08fbeb",
   "metadata": {},
   "outputs": [
    {
     "name": "stdin",
     "output_type": "stream",
     "text": [
      "Please enter a sentence:  Im sad please make me smile\n"
     ]
    },
    {
     "name": "stdout",
     "output_type": "stream",
     "text": [
      "Im :(( please make me :)\n"
     ]
    }
   ],
   "source": [
    "def emoticon(sentence): \n",
    "    emoticons = {\"smile\": \":)\", \"grin\": \":D\", \"sad\": \":((\", \"mad\": \">:(\"}\n",
    "    return \" \".join(emoticons.get(word.lower(),word) for word in sentence.split())\n",
    "\n",
    "text = input (\"Please enter a sentence: \")\n",
    "print(emoticon(text))"
   ]
  },
  {
   "cell_type": "markdown",
   "id": "c87b7c25-7d0d-425e-8181-f0959c7c95f3",
   "metadata": {},
   "source": [
    "# Unpacking List Problem"
   ]
  },
  {
   "cell_type": "code",
   "execution_count": 3,
   "id": "936f4a60-37ef-4965-ba15-26a9ab494804",
   "metadata": {},
   "outputs": [
    {
     "name": "stdout",
     "output_type": "stream",
     "text": [
      "First: 1\n",
      "Middle: [2, 3, 4, 5]\n",
      "Last: 6\n"
     ]
    }
   ],
   "source": [
    "n = [1,2,3,4,5,6]\n",
    "print(\"First:\", n[0])\n",
    "print(\"Middle:\", n[1:-1])\n",
    "print(\"Last:\", n[5])"
   ]
  }
 ],
 "metadata": {
  "kernelspec": {
   "display_name": "Python 3 (ipykernel)",
   "language": "python",
   "name": "python3"
  },
  "language_info": {
   "codemirror_mode": {
    "name": "ipython",
    "version": 3
   },
   "file_extension": ".py",
   "mimetype": "text/x-python",
   "name": "python",
   "nbconvert_exporter": "python",
   "pygments_lexer": "ipython3",
   "version": "3.13.5"
  }
 },
 "nbformat": 4,
 "nbformat_minor": 5
}
